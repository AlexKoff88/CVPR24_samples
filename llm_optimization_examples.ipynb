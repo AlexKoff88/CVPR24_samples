{
 "cells": [
  {
   "cell_type": "markdown",
   "metadata": {},
   "source": [
    "# LLM optimization examples with NNCF and OpenVINO"
   ]
  },
  {
   "cell_type": "markdown",
   "metadata": {},
   "source": [
    ">**Note:** Make sure that you have enought disk space as the environment and the model can take sevaral gigabytes of you space"
   ]
  },
  {
   "cell_type": "markdown",
   "metadata": {},
   "source": [
    "## Install pre-requisites"
   ]
  },
  {
   "cell_type": "code",
   "execution_count": null,
   "metadata": {},
   "outputs": [],
   "source": [
    "%pip install diffusers\n",
    "%pip install openvino nncf\n",
    "%pip install git+https://github.com/huggingface/optimum.git\n",
    "%pip install git+https://github.com/huggingface/optimum-intel.git"
   ]
  },
  {
   "cell_type": "markdown",
   "metadata": {},
   "source": [
    "## Floating-point model inference"
   ]
  },
  {
   "cell_type": "code",
   "execution_count": null,
   "metadata": {},
   "outputs": [],
   "source": [
    "from transformers import AutoTokenizer\n",
    "from optimum.intel import OVModelForCausalLM\n",
    "import openvino as ov\n",
    "import time\n",
    "\n",
    "MODEL_ID = \"microsoft/Phi-3-mini-4k-instruct\"\n",
    "\n",
    "model = OVModelForCausalLM.from_pretrained(MODEL_ID, export=True, load_in_8bit=False, trust_remote_code=True)\n",
    "tokenizer = AutoTokenizer.from_pretrained(MODEL_ID, trust_remote_code=True)\n",
    "\n",
    "template = \"<|user|>\\n{}<|end|>\\n<|assistant|>\"\n",
    "question = \"Hey, model! Tell me about LLM?\"\n",
    "prompt = template.format(question)\n",
    "inputs = tokenizer(prompt, return_tensors=\"pt\")\n",
    "\n",
    "start = time.time()\n",
    "output = model.generate(**inputs, max_new_tokens=256)\n",
    "print(\"Avarage latency per token: \", (time.time() - start) / output.shape[1])\n",
    "\n",
    "answer = tokenizer.batch_decode(output, skip_special_tokens=True)[0]\n",
    "print(\"Answer: \", answer)"
   ]
  },
  {
   "cell_type": "markdown",
   "metadata": {},
   "source": [
    "## 8-bit weight quantization"
   ]
  },
  {
   "cell_type": "code",
   "execution_count": null,
   "metadata": {},
   "outputs": [],
   "source": [
    "from transformers import AutoTokenizer\n",
    "from optimum.intel import OVModelForCausalLM\n",
    "import openvino as ov\n",
    "import time\n",
    "\n",
    "MODEL_ID = \"microsoft/Phi-3-mini-4k-instruct\"\n",
    "\n",
    "model = OVModelForCausalLM.from_pretrained(MODEL_ID, export=True, quantization_config=dict(bits=8), trust_remote_code=True)\n",
    "tokenizer = AutoTokenizer.from_pretrained(MODEL_ID, trust_remote_code=True)\n",
    "\n",
    "template = \"<|user|>\\n{}<|end|>\\n<|assistant|>\"\n",
    "question = \"Hey, model! Tell me about LLM?\"\n",
    "prompt = template.format(question)\n",
    "inputs = tokenizer(prompt, return_tensors=\"pt\")\n",
    "\n",
    "start = time.time()\n",
    "output = model.generate(**inputs, max_new_tokens=256)\n",
    "print(\"Avarage latency per token: \", (time.time() - start) / output.shape[1])\n",
    "\n",
    "answer = tokenizer.batch_decode(output, skip_special_tokens=True)[0]\n",
    "print(\"Answer: \", answer)"
   ]
  },
  {
   "cell_type": "markdown",
   "metadata": {},
   "source": [
    "## 4-bit data-aware weight quantization"
   ]
  },
  {
   "cell_type": "code",
   "execution_count": null,
   "metadata": {},
   "outputs": [],
   "source": [
    "from transformers import AutoTokenizer\n",
    "from optimum.intel import OVModelForCausalLM\n",
    "import openvino as ov\n",
    "\n",
    "MODEL_ID = \"microsoft/Phi-3-mini-4k-instruct\"\n",
    "\n",
    "model = OVModelForCausalLM.from_pretrained(\n",
    "    MODEL_ID,\n",
    "    export=True,\n",
    "    compile=False,\n",
    "    quantization_config=dict(bits=4, sym=True, ratio=0.8, dataset=\"ptb\", trust_remote_code=True),\n",
    "    trust_remote_code=True\n",
    ")\n",
    "tokenizer = AutoTokenizer.from_pretrained(MODEL_ID, trust_remote_code=True)\n",
    "\n",
    "template = \"<|user|>\\n{}<|end|>\\n<|assistant|>\"\n",
    "question = \"Hey, model! Tell me about LLM?\"\n",
    "prompt = template.format(question)\n",
    "inputs = tokenizer(prompt, return_tensors=\"pt\")\n",
    "\n",
    "start = time.time()\n",
    "output = model.generate(**inputs, max_new_tokens=256)\n",
    "print(\"Avarage latency per token: \", (time.time() - start) / output.shape[1])\n",
    "\n",
    "answer = tokenizer.batch_decode(output, skip_special_tokens=True)[0]\n",
    "print(\"Answer: \", answer)"
   ]
  },
  {
   "cell_type": "markdown",
   "metadata": {},
   "source": [
    "## Dynamic Quantization and KV-cache Quantization"
   ]
  },
  {
   "cell_type": "code",
   "execution_count": null,
   "metadata": {},
   "outputs": [],
   "source": [
    "from transformers import AutoTokenizer\n",
    "from optimum.intel import OVModelForCausalLM\n",
    "import openvino as ov\n",
    "\n",
    "MODEL_ID = \"microsoft/Phi-3-mini-4k-instruct\"\n",
    "\n",
    "model = OVModelForCausalLM.from_pretrained(\n",
    "    MODEL_ID,\n",
    "    export=True,\n",
    "    compile=False,\n",
    "    quantization_config=dict(bits=4, sym=True, ratio=0.8, dataset=\"ptb\"),\n",
    "    ov_config={\"KV_CACHE_PRECISION\": \"u8\", \"DYNAMIC_QUANTIZATION_GROUP_SIZE\": \"32\", \"PERFORMANCE_HINT\": \"LATENCY\"},\n",
    "    trust_remote_code=True\n",
    ")\n",
    "tokenizer = AutoTokenizer.from_pretrained(MODEL_ID, trust_remote_code=True)\n",
    "\n",
    "template = \"<|user|>\\n{}<|end|>\\n<|assistant|>\"\n",
    "question = \"Hey, model! Tell me about LLM?\"\n",
    "inputs = tokenizer(prompt, return_tensors=\"pt\")\n",
    "\n",
    "start = time.time()\n",
    "output = model.generate(**inputs, max_new_tokens=256)\n",
    "print(\"Avarage latency per token: \", (time.time() - start) / output.shape[1])\n",
    "\n",
    "answer = tokenizer.batch_decode(output, skip_special_tokens=True)[0]\n",
    "print(\"Answer: \", answer)"
   ]
  }
 ],
 "metadata": {
  "kernelspec": {
   "display_name": "optimum",
   "language": "python",
   "name": "python3"
  },
  "language_info": {
   "codemirror_mode": {
    "name": "ipython",
    "version": 3
   },
   "file_extension": ".py",
   "mimetype": "text/x-python",
   "name": "python",
   "nbconvert_exporter": "python",
   "pygments_lexer": "ipython3",
   "version": "3.11.0"
  }
 },
 "nbformat": 4,
 "nbformat_minor": 2
}
